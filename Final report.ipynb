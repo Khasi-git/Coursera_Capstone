{
    "cells": [
        {
            "cell_type": "markdown",
            "metadata": {
                "collapsed": true
            },
            "source": "# Final Report"
        },
        {
            "cell_type": "markdown",
            "metadata": {},
            "source": "## Introduction: "
        },
        {
            "cell_type": "markdown",
            "metadata": {},
            "source": "#### The motive of the project is to help people find better facilites around their place. It will help people in choosing a better neighbourhood in Scarborough, Toronto.\n\n#### A lot of people are migrating to various states of Canada and needed lots of research for good housing prices and reputated schools for their children. This project helps people in finding for better neighborhoods. For ease of accessing to Cafe, School, grocery shops, mall, theatre, hospital, like minded people, etc.\n#### While looking for a new place, Budget of an individual plays a very important role. A good place at a low price is very desirable. For this one has to keep in mind various points."
        },
        {
            "cell_type": "markdown",
            "metadata": {},
            "source": "# Problem"
        },
        {
            "cell_type": "markdown",
            "metadata": {},
            "source": "#### The major purpose of this project, is to suggest a better neighbourhood in a new city for the person who are shifting there. Connectivity to the various places are important when people think of moving to a new place.\n\n#### 1.List of Houses based on the prices.\n#### 2.List of Schools in terms of loaction and fees."
        },
        {
            "cell_type": "markdown",
            "metadata": {},
            "source": "# Location:"
        },
        {
            "cell_type": "markdown",
            "metadata": {},
            "source": "#### Scarborough,Toronto."
        },
        {
            "cell_type": "markdown",
            "metadata": {},
            "source": "# Data Acquisation"
        },
        {
            "cell_type": "markdown",
            "metadata": {},
            "source": "#### Would be using the data from Wikipedia*.\n#### Link: https://en.wikipedia.org/wiki/List_of_postal_codes_of_Canada:_M\n#### From this link, we firstly used \u2018 BeautifulSoup inorder to parse the data*. Further we separated only the Scarborough data as it the main dataset.\n#### Foursquare API was used to get information about the venue in specified radius.\n#### Folium was used to get the map of Scarborough .\n#### Information regarding schools was obtained from\nhttps://www.greatschools.org\n*\nImplies same as week 3"
        },
        {
            "cell_type": "markdown",
            "metadata": {},
            "source": "# Methodology"
        },
        {
            "cell_type": "markdown",
            "metadata": {},
            "source": "Like we did in the NYC in the previous lab. We need to cluster data which is a form of unsupervised machine learning: k-means clustering algorithm"
        },
        {
            "cell_type": "markdown",
            "metadata": {},
            "source": "# Results"
        },
        {
            "cell_type": "markdown",
            "metadata": {},
            "source": "https://github.com/Khasi-git/Coursera_Capstone/blob/master/Final%20Submission%20(Battle%20of%20Neighbourhoods)%20.ipynb\n"
        },
        {
            "cell_type": "markdown",
            "metadata": {},
            "source": "Please view the last 3 figures of the notebook. Sorry for the inconvinience."
        },
        {
            "cell_type": "markdown",
            "metadata": {},
            "source": "Foursquare API has played an important role in this project due to its features of providing details about the venues and businesses."
        },
        {
            "cell_type": "markdown",
            "metadata": {},
            "source": "# Discussion \n"
        },
        {
            "cell_type": "markdown",
            "metadata": {},
            "source": "Here, we have answered the question,'Which neighbourhood is preferable to move to?'\nBased on the average housing price and quality of schools (ratings)"
        },
        {
            "cell_type": "markdown",
            "metadata": {},
            "source": "# Conclusion"
        },
        {
            "cell_type": "markdown",
            "metadata": {},
            "source": "Here, using k-means clustering algorithm the neighborhoods are separated into 10(Ten) different clusters and for 103 different lattitude and logitude from dataset, which have very-similar neighborhoods around them. Using the charts above results presented to a particular neighborhood based on average house prices and school rating have been made."
        }
    ],
    "metadata": {
        "kernelspec": {
            "display_name": "Python 3.6",
            "language": "python",
            "name": "python3"
        },
        "language_info": {
            "codemirror_mode": {
                "name": "ipython",
                "version": 3
            },
            "file_extension": ".py",
            "mimetype": "text/x-python",
            "name": "python",
            "nbconvert_exporter": "python",
            "pygments_lexer": "ipython3",
            "version": "3.6.9"
        }
    },
    "nbformat": 4,
    "nbformat_minor": 1
}