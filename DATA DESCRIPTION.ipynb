{
    "cells": [
        {
            "cell_type": "markdown",
            "metadata": {
                "collapsed": true
            },
            "source": "# The Battle of Neighborhoods - Data Description"
        },
        {
            "cell_type": "markdown",
            "metadata": {},
            "source": "## Data"
        },
        {
            "cell_type": "markdown",
            "metadata": {},
            "source": "The data that we refined in week 3. Mainly Scarborough dataset."
        },
        {
            "cell_type": "markdown",
            "metadata": {},
            "source": "## Foursquare API"
        },
        {
            "cell_type": "markdown",
            "metadata": {},
            "source": "In order to gain data about different venues in different neighborhoods of that specific borough we will use \"Foursquare\" locational information. Foursquare is a location data provider with information about all manner of venues and events within an area of interest. It provides us the information of venue names, locations, menus and even photos. As such, the foursquare location platform will be used as the sole data source since all the stated required information can be obtained through the API.\n"
        },
        {
            "cell_type": "markdown",
            "metadata": {},
            "source": "We have chosen a radius of 50 meters.\n\n\nThe data retrieved from Foursquare contained information of venues within a specified distance of the longitude and latitude of the postcodes. The information obtained per venue as follows:\n\n1. Neighborhood\n2. Neighborhood Latitude\n3. Neighborhood Longitude\n4. Venue\n5. Name of the venue e.g. the name of a store or restaurant\n6. Venue Latitude\n7. Venue Longitude\n8. Venue Category"
        },
        {
            "cell_type": "code",
            "execution_count": null,
            "metadata": {},
            "outputs": [],
            "source": ""
        }
    ],
    "metadata": {
        "kernelspec": {
            "display_name": "Python 3.6",
            "language": "python",
            "name": "python3"
        },
        "language_info": {
            "codemirror_mode": {
                "name": "ipython",
                "version": 3
            },
            "file_extension": ".py",
            "mimetype": "text/x-python",
            "name": "python",
            "nbconvert_exporter": "python",
            "pygments_lexer": "ipython3",
            "version": "3.6.9"
        }
    },
    "nbformat": 4,
    "nbformat_minor": 1
}