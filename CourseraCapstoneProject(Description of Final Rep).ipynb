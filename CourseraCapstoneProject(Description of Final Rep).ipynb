{
    "cells": [
        {
            "cell_type": "markdown",
            "metadata": {
                "collapsed": true
            },
            "source": "# The Battle of Neighborhoods - Business Proposal"
        },
        {
            "cell_type": "markdown",
            "metadata": {},
            "source": "## Introduction:"
        },
        {
            "cell_type": "markdown",
            "metadata": {},
            "source": "The motive of the project is to help people find better facilites around their place. It will help people in choosing a better neighbourhood in Scarborough, Toronto."
        },
        {
            "cell_type": "markdown",
            "metadata": {},
            "source": "A lot of people are migrating to various states of Canada and needed lots of research for good housing prices and reputated schools for their children. This project helps people in finding for better neighborhoods. For ease of accessing to Cafe, School, grocery shops, mall, theatre, hospital, like minded people, etc. "
        },
        {
            "cell_type": "markdown",
            "metadata": {},
            "source": "It will help people to get awareness of the area and neighborhood before moving to a new city, state, country or place for their work or to start a new fresh life."
        },
        {
            "cell_type": "markdown",
            "metadata": {},
            "source": "## Problem "
        },
        {
            "cell_type": "markdown",
            "metadata": {},
            "source": "The major purpose of this project, is to suggest a better neighbourhood in a new city for the person who are shifting there. Connectivity to the various places are important when people think of moving to a new place.\n1. List of Houses based on the prices\n2. List of Schools in terms of loaction and fees"
        },
        {
            "cell_type": "markdown",
            "metadata": {},
            "source": "## Location:\n"
        },
        {
            "cell_type": "markdown",
            "metadata": {},
            "source": "Scarborough ,Toronto."
        },
        {
            "cell_type": "markdown",
            "metadata": {},
            "source": "## Clustering \n"
        },
        {
            "cell_type": "markdown",
            "metadata": {},
            "source": "Like we did in the NYC in the previous lab. We need to cluster data which is a form of unsupervised machine learning: k-means clustering algorithm"
        },
        {
            "cell_type": "markdown",
            "metadata": {},
            "source": ""
        }
    ],
    "metadata": {
        "kernelspec": {
            "display_name": "Python 3.6",
            "language": "python",
            "name": "python3"
        },
        "language_info": {
            "codemirror_mode": {
                "name": "ipython",
                "version": 3
            },
            "file_extension": ".py",
            "mimetype": "text/x-python",
            "name": "python",
            "nbconvert_exporter": "python",
            "pygments_lexer": "ipython3",
            "version": "3.6.9"
        }
    },
    "nbformat": 4,
    "nbformat_minor": 1
}